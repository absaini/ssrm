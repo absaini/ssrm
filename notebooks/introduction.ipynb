{
 "cells": [
  {
   "cell_type": "markdown",
   "metadata": {},
   "source": [
    "# ---> This notebook is altered to include timings\n",
    "marker for added comments: -->"
   ]
  },
  {
   "cell_type": "code",
   "execution_count": null,
   "metadata": {},
   "outputs": [],
   "source": [
    "# special installs"
   ]
  },
  {
   "cell_type": "markdown",
   "metadata": {},
   "source": [
    "This tutorial uses`pandas` and `matplotlib` [and now numpy] to transform and visualize data. If you do not already have these libraries installed, uncomment the code below to install them now."
   ]
  },
  {
   "cell_type": "code",
   "execution_count": 27,
   "metadata": {},
   "outputs": [
    {
     "name": "stdout",
     "output_type": "stream",
     "text": [
      "Requirement already satisfied: matplotlib in /usr/local/Cellar/pyenv/versions/3.7.6/envs/stat/lib/python3.7/site-packages (3.2.1)\n",
      "Requirement already satisfied: python-dateutil>=2.1 in /usr/local/Cellar/pyenv/versions/3.7.6/envs/stat/lib/python3.7/site-packages (from matplotlib) (2.8.1)\n",
      "Requirement already satisfied: kiwisolver>=1.0.1 in /usr/local/Cellar/pyenv/versions/3.7.6/envs/stat/lib/python3.7/site-packages (from matplotlib) (1.2.0)\n",
      "Requirement already satisfied: numpy>=1.11 in /usr/local/Cellar/pyenv/versions/3.7.6/envs/stat/lib/python3.7/site-packages (from matplotlib) (1.18.4)\n",
      "Requirement already satisfied: pyparsing!=2.0.4,!=2.1.2,!=2.1.6,>=2.0.1 in /usr/local/Cellar/pyenv/versions/3.7.6/envs/stat/lib/python3.7/site-packages (from matplotlib) (2.4.7)\n",
      "Requirement already satisfied: cycler>=0.10 in /usr/local/Cellar/pyenv/versions/3.7.6/envs/stat/lib/python3.7/site-packages (from matplotlib) (0.10.0)\n",
      "Requirement already satisfied: six>=1.5 in /usr/local/Cellar/pyenv/versions/3.7.6/envs/stat/lib/python3.7/site-packages (from python-dateutil>=2.1->matplotlib) (1.14.0)\n",
      "Requirement already satisfied: pandas in /usr/local/Cellar/pyenv/versions/3.7.6/envs/stat/lib/python3.7/site-packages (1.0.4)\n",
      "Requirement already satisfied: pytz>=2017.2 in /usr/local/Cellar/pyenv/versions/3.7.6/envs/stat/lib/python3.7/site-packages (from pandas) (2020.1)\n",
      "Requirement already satisfied: numpy>=1.13.3 in /usr/local/Cellar/pyenv/versions/3.7.6/envs/stat/lib/python3.7/site-packages (from pandas) (1.18.4)\n",
      "Requirement already satisfied: python-dateutil>=2.6.1 in /usr/local/Cellar/pyenv/versions/3.7.6/envs/stat/lib/python3.7/site-packages (from pandas) (2.8.1)\n",
      "Requirement already satisfied: six>=1.5 in /usr/local/Cellar/pyenv/versions/3.7.6/envs/stat/lib/python3.7/site-packages (from python-dateutil>=2.6.1->pandas) (1.14.0)\n"
     ]
    }
   ],
   "source": [
    "import sys\n",
    "!{sys.executable} -m pip install matplotlib\n",
    "!{sys.executable} -m pip install pandas"
   ]
  },
  {
   "cell_type": "markdown",
   "metadata": {},
   "source": [
    "# SSRM: Sequential Sample Ratio Mistmatch Test\n",
    "## Michael Lindon (michael.lindon@optimizely.com)\n",
    "\n",
    "## What is an SRM?\n",
    "\n",
    "In almost all online controlled experiments (OCEs) that use random designs, the experimenter must specify a traffic allocation for each of the variations in the experiment. If you have never done this, chances are you have been using a default traffic allocation that assigns equal amounts of traffic to all the experiment variations.\n",
    "\n",
    "A common cause for concern is when the number of visitors assigned to each variation appears somewhat different from what one might expect under the intended traffic allocation. Indeed, this is a signal of an underlying data quality issue or engineering bug in the implementation, which has the potential to invalidate any causal conclusions drawn from the experiment. Loosely speaking, a **Sample Ratio Mistmatch** (SRM) is said to be presented when the observed sample ratios are significantly different from the expected sample ratios. It is widely regarded as a good experimentation practice to check experiments for SRMs. We can formulate this problem statistically to give a precise mathematical definition of an SRM.\n",
    "\n",
    "## Statistical Model\n",
    "The simplest example of an A/B test involves two variations, a control and a treatment, and equal traffic allocation to each. To be precise, a new visitor is assigned to the treatment with probability 0.5 upon entering the experiment. Statistically speaking, this assignment is an example of a $\\text{Binomial}(1,p)$ random variable. The intended traffic allocation corresponds to the *null hypothesis:* $p = 0.5$.  Detection of a sample ratio mismatch can be formulated as a hypothesis test which tests precisely this null hypothesis.\n",
    "\n",
    "A more general example is provided when there are multiple variations in an experiment. In this case a user assignment is an example of a $\\text{Multinomial}(1,p)$ random variable $x$, which is simply a higher dimensional generalization of the $\\text{Binomial}(1,p)$. If there are $d$ variations in the experiment, then $x$ is a vector of length $d$ containing $d-1$ zeros and a single one to indicate the outcome. As an example $x=(0,0,1)$ indicates that the user was assigned to the third variation. Naturally, the parameter $p$ is also a $d$ dimensional vector, with the constraint that the elements are in $[0,1]$ and sum to 1, so that these values correspond to probabilities. The intended traffic allocation to each variation corresponds to a null hypothesis about the parameter $p$. If we expected equal traffic to each variations, then the null and alternative hypotheses are\n",
    "\n",
    "$$\\begin{align}\n",
    "H_0: x_1, x_2, \\dots \\sim \\text{Multinomial}(1,p)\\hspace{1cm}p=p_0,\\\\\n",
    "H_1: x_1, x_2, \\dots \\sim \\text{Multinomial}(1,p)\\hspace{1cm}p\\neq p_0,\\\\\n",
    "\\end{align}$$\n",
    "with $p_0=[1/3, 1/3, 1/3]$.\n",
    "\n",
    "\n",
    "There are Bayesian and frequentist approaches to testing this, each with sequential and non-sequential tests. The ssrm package contains a test developed at Optimizely which is sequential and has both Bayesian and frequentist interpretations. \n",
    "\n",
    "## SSRM\n",
    "The wonderful thing about a sequential version of a sample ratio mismatch test is that you don't have to wait for the experiment to finish before it can be executed. The SSRM test detects in real-time, from the very beginning of an experiment, if an SRM is present. This allows bugs to be rapidly detected in the early stages of an experiment and corrected before exposing new visitors to the variations. See the accompanying white paper for the underlying mathematical details. Let's start by generating some data to work with."
   ]
  },
  {
   "cell_type": "code",
   "execution_count": 28,
   "metadata": {},
   "outputs": [],
   "source": [
    "import timeit\n",
    "import pandas as pd"
   ]
  },
  {
   "cell_type": "code",
   "execution_count": 56,
   "metadata": {},
   "outputs": [],
   "source": [
    "from scipy.stats import multinomial\n",
    "import numpy as np\n",
    "\n",
    "# Set the seed of our random number generator for reproducibility. Don't worry about this\n",
    "np.random.seed(0)\n",
    "\n",
    "# Our intended allocation probabilities\n",
    "p_0 = [0.1, 0.5, 0.4]\n",
    "\n",
    "# The actual allocation probabilities\n",
    "p = [0.1, 0.49, 0.41]\n",
    "\n",
    "# Specify number of visitors\n",
    "n = 10000\n",
    "\n",
    "# Generate allocations\n",
    "data = multinomial.rvs(1, p, size=n)"
   ]
  },
  {
   "cell_type": "markdown",
   "metadata": {},
   "source": [
    "### --> We use a low n for base calculations\n",
    "This may be too low for these algorithms to discover mismatch."
   ]
  },
  {
   "cell_type": "code",
   "execution_count": 79,
   "metadata": {},
   "outputs": [],
   "source": [
    "def timeits(statement, setup, ns, number=5):\n",
    "    '''Run timeit tests for multiple values within n.\n",
    "    ns: which values of n to use in setup\n",
    "    number: not many times to run each test (to reduce statistical error in reported times)\n",
    "    \n",
    "    Returns a table of n (data size), time for single calculations at that data size, 'speed': calculations per second.\n",
    "    '''\n",
    "    times = [timeit.timeit(statement.format(n=n_val), setup=setup.format(n=n_val), number=number) for n_val in ns]\n",
    "    return pd.DataFrame({'n': ns, 'times':np.array(times)/number, 'speed':np.array(ns) / np.array(times) * number})"
   ]
  },
  {
   "cell_type": "code",
   "execution_count": 80,
   "metadata": {},
   "outputs": [
    {
     "data": {
      "text/html": [
       "<div>\n",
       "<style scoped>\n",
       "    .dataframe tbody tr th:only-of-type {\n",
       "        vertical-align: middle;\n",
       "    }\n",
       "\n",
       "    .dataframe tbody tr th {\n",
       "        vertical-align: top;\n",
       "    }\n",
       "\n",
       "    .dataframe thead th {\n",
       "        text-align: right;\n",
       "    }\n",
       "</style>\n",
       "<table border=\"1\" class=\"dataframe\">\n",
       "  <thead>\n",
       "    <tr style=\"text-align: right;\">\n",
       "      <th></th>\n",
       "      <th>n</th>\n",
       "      <th>times</th>\n",
       "      <th>speed</th>\n",
       "    </tr>\n",
       "  </thead>\n",
       "  <tbody>\n",
       "    <tr>\n",
       "      <th>0</th>\n",
       "      <td>1</td>\n",
       "      <td>0.000226</td>\n",
       "      <td>4.415011e+03</td>\n",
       "    </tr>\n",
       "    <tr>\n",
       "      <th>1</th>\n",
       "      <td>10</td>\n",
       "      <td>0.000073</td>\n",
       "      <td>1.364700e+05</td>\n",
       "    </tr>\n",
       "    <tr>\n",
       "      <th>2</th>\n",
       "      <td>100</td>\n",
       "      <td>0.000130</td>\n",
       "      <td>7.672713e+05</td>\n",
       "    </tr>\n",
       "    <tr>\n",
       "      <th>3</th>\n",
       "      <td>1000</td>\n",
       "      <td>0.000246</td>\n",
       "      <td>4.068203e+06</td>\n",
       "    </tr>\n",
       "    <tr>\n",
       "      <th>4</th>\n",
       "      <td>10000</td>\n",
       "      <td>0.001119</td>\n",
       "      <td>8.936151e+06</td>\n",
       "    </tr>\n",
       "    <tr>\n",
       "      <th>5</th>\n",
       "      <td>100000</td>\n",
       "      <td>0.010648</td>\n",
       "      <td>9.391059e+06</td>\n",
       "    </tr>\n",
       "    <tr>\n",
       "      <th>6</th>\n",
       "      <td>1000000</td>\n",
       "      <td>0.082313</td>\n",
       "      <td>1.214879e+07</td>\n",
       "    </tr>\n",
       "    <tr>\n",
       "      <th>7</th>\n",
       "      <td>10000000</td>\n",
       "      <td>0.837779</td>\n",
       "      <td>1.193632e+07</td>\n",
       "    </tr>\n",
       "    <tr>\n",
       "      <th>8</th>\n",
       "      <td>100000000</td>\n",
       "      <td>8.745618</td>\n",
       "      <td>1.143430e+07</td>\n",
       "    </tr>\n",
       "  </tbody>\n",
       "</table>\n",
       "</div>"
      ],
      "text/plain": [
       "           n     times         speed\n",
       "0          1  0.000226  4.415011e+03\n",
       "1         10  0.000073  1.364700e+05\n",
       "2        100  0.000130  7.672713e+05\n",
       "3       1000  0.000246  4.068203e+06\n",
       "4      10000  0.001119  8.936151e+06\n",
       "5     100000  0.010648  9.391059e+06\n",
       "6    1000000  0.082313  1.214879e+07\n",
       "7   10000000  0.837779  1.193632e+07\n",
       "8  100000000  8.745618  1.143430e+07"
      ]
     },
     "execution_count": 80,
     "metadata": {},
     "output_type": "execute_result"
    }
   ],
   "source": [
    "#old calc\n",
    "timeits('data = multinomial.rvs(1, p, size=n)',\n",
    "'''\n",
    "from scipy.stats import multinomial\n",
    "import numpy as np\n",
    "np.random.seed(0)\n",
    "p_0 = [0.1, 0.5, 0.4]\n",
    "p = [0.1, 0.49, 0.41]\n",
    "n = {n}\n",
    "''',\n",
    "[10**i for i in range(9)],\n",
    "5)"
   ]
  },
  {
   "cell_type": "code",
   "execution_count": 87,
   "metadata": {},
   "outputs": [
    {
     "data": {
      "text/html": [
       "<div>\n",
       "<style scoped>\n",
       "    .dataframe tbody tr th:only-of-type {\n",
       "        vertical-align: middle;\n",
       "    }\n",
       "\n",
       "    .dataframe tbody tr th {\n",
       "        vertical-align: top;\n",
       "    }\n",
       "\n",
       "    .dataframe thead th {\n",
       "        text-align: right;\n",
       "    }\n",
       "</style>\n",
       "<table border=\"1\" class=\"dataframe\">\n",
       "  <thead>\n",
       "    <tr style=\"text-align: right;\">\n",
       "      <th></th>\n",
       "      <th>n</th>\n",
       "      <th>times</th>\n",
       "      <th>speed</th>\n",
       "    </tr>\n",
       "  </thead>\n",
       "  <tbody>\n",
       "    <tr>\n",
       "      <th>0</th>\n",
       "      <td>1</td>\n",
       "      <td>0.000076</td>\n",
       "      <td>13153.879276</td>\n",
       "    </tr>\n",
       "    <tr>\n",
       "      <th>1</th>\n",
       "      <td>10</td>\n",
       "      <td>0.000082</td>\n",
       "      <td>122653.937528</td>\n",
       "    </tr>\n",
       "  </tbody>\n",
       "</table>\n",
       "</div>"
      ],
      "text/plain": [
       "    n     times          speed\n",
       "0   1  0.000076   13153.879276\n",
       "1  10  0.000082  122653.937528"
      ]
     },
     "execution_count": 87,
     "metadata": {},
     "output_type": "execute_result"
    }
   ],
   "source": [
    "#to demo adjust top n exponent\n",
    "timeits('data = multinomial.rvs(1, p, size=n)',\n",
    "'''\n",
    "from scipy.stats import multinomial\n",
    "import numpy as np\n",
    "np.random.seed(0)\n",
    "p_0 = [0.1, 0.5, 0.4]\n",
    "p = [0.1, 0.49, 0.41]\n",
    "n = {n}\n",
    "''',\n",
    "[10**i for i in range(2)],\n",
    "5)"
   ]
  },
  {
   "cell_type": "markdown",
   "metadata": {},
   "source": [
    "### --> notice: \n",
    "1) first plateau around 10^6  \n",
    "2) slight slowing thereafter - maybe due to memory swapping"
   ]
  },
  {
   "cell_type": "code",
   "execution_count": 2,
   "metadata": {},
   "outputs": [
    {
     "data": {
      "text/plain": [
       "array([0, 0, 1])"
      ]
     },
     "execution_count": 2,
     "metadata": {},
     "output_type": "execute_result"
    }
   ],
   "source": [
    "data[0,:]"
   ]
  },
  {
   "cell_type": "markdown",
   "metadata": {},
   "source": [
    "You have just simulated `n` allocations under probabilities that differ from the intended. The null hypothesis is therefore not correct for this dataset, and it would be correct to reject the null hypothesis.\n",
    "\n",
    "The SSRM API supports both sequential Bayesian and sequential frequentist analyses. There is a tuning parameter for both, but the above example supplies a good default that works for most use-cases."
   ]
  },
  {
   "cell_type": "markdown",
   "metadata": {},
   "source": [
    "## Frequentist Analysis\n",
    "To obtain sequential p-values, simply import the `sequential_p_values` function. The probability under the null hypothesis that the sequential p-value falls below $\\alpha$ is less than $\\alpha$. In other words, if you reject the null and declare an SRM to be present when the sequential p-value is less than $\\alpha$, then the probability of reporting a **false positive** is at most $\\alpha$. "
   ]
  },
  {
   "cell_type": "code",
   "execution_count": 4,
   "metadata": {},
   "outputs": [],
   "source": [
    "import os"
   ]
  },
  {
   "cell_type": "code",
   "execution_count": 5,
   "metadata": {},
   "outputs": [],
   "source": [
    "os.chdir('..')"
   ]
  },
  {
   "cell_type": "code",
   "execution_count": 7,
   "metadata": {},
   "outputs": [
    {
     "data": {
      "text/plain": [
       "'/Users/coverton/dev/stats/ssrm'"
      ]
     },
     "execution_count": 7,
     "metadata": {},
     "output_type": "execute_result"
    }
   ],
   "source": [
    "os.getcwd()"
   ]
  },
  {
   "cell_type": "code",
   "execution_count": 57,
   "metadata": {},
   "outputs": [],
   "source": [
    "from ssrm_test import ssrm_test\n",
    "import matplotlib.pyplot as plt\n",
    "\n",
    "pvals = ssrm_test.sequential_p_values(data, p_0)"
   ]
  },
  {
   "cell_type": "code",
   "execution_count": 58,
   "metadata": {},
   "outputs": [
    {
     "data": {
      "image/png": "[encoded data removed]",
      "text/plain": [
       "<Figure size 432x288 with 1 Axes>"
      ]
     },
     "metadata": {
      "needs_background": "light"
     },
     "output_type": "display_data"
    }
   ],
   "source": [
    "fig = plt.figure()\n",
    "plt.plot(pvals)\n",
    "fig.suptitle(\"Sequential p-value for Testing SRM\", fontsize=20)\n",
    "plt.xlabel(\"Visitor Count\", fontsize=18)\n",
    "plt.ylabel(\"p-value\", fontsize=16)\n",
    "plt.ylim(0, 1)\n",
    "plt.show()"
   ]
  },
  {
   "cell_type": "markdown",
   "metadata": {},
   "source": [
    "## Now we focus on timing the ssrm test. \n",
    "Note how random variable generation move from the main command tested (1st line) to the setup (larger block.)"
   ]
  },
  {
   "cell_type": "code",
   "execution_count": 81,
   "metadata": {},
   "outputs": [
    {
     "data": {
      "text/html": [
       "<div>\n",
       "<style scoped>\n",
       "    .dataframe tbody tr th:only-of-type {\n",
       "        vertical-align: middle;\n",
       "    }\n",
       "\n",
       "    .dataframe tbody tr th {\n",
       "        vertical-align: top;\n",
       "    }\n",
       "\n",
       "    .dataframe thead th {\n",
       "        text-align: right;\n",
       "    }\n",
       "</style>\n",
       "<table border=\"1\" class=\"dataframe\">\n",
       "  <thead>\n",
       "    <tr style=\"text-align: right;\">\n",
       "      <th></th>\n",
       "      <th>n</th>\n",
       "      <th>times</th>\n",
       "      <th>speed</th>\n",
       "    </tr>\n",
       "  </thead>\n",
       "  <tbody>\n",
       "    <tr>\n",
       "      <th>0</th>\n",
       "      <td>1</td>\n",
       "      <td>0.000429</td>\n",
       "      <td>2329.300693</td>\n",
       "    </tr>\n",
       "    <tr>\n",
       "      <th>1</th>\n",
       "      <td>10</td>\n",
       "      <td>0.001373</td>\n",
       "      <td>7284.140330</td>\n",
       "    </tr>\n",
       "    <tr>\n",
       "      <th>2</th>\n",
       "      <td>100</td>\n",
       "      <td>0.008012</td>\n",
       "      <td>12480.871816</td>\n",
       "    </tr>\n",
       "    <tr>\n",
       "      <th>3</th>\n",
       "      <td>1000</td>\n",
       "      <td>0.055967</td>\n",
       "      <td>17867.553004</td>\n",
       "    </tr>\n",
       "    <tr>\n",
       "      <th>4</th>\n",
       "      <td>10000</td>\n",
       "      <td>0.490591</td>\n",
       "      <td>20383.585570</td>\n",
       "    </tr>\n",
       "    <tr>\n",
       "      <th>5</th>\n",
       "      <td>100000</td>\n",
       "      <td>5.171656</td>\n",
       "      <td>19336.165084</td>\n",
       "    </tr>\n",
       "    <tr>\n",
       "      <th>6</th>\n",
       "      <td>1000000</td>\n",
       "      <td>51.079933</td>\n",
       "      <td>19577.159505</td>\n",
       "    </tr>\n",
       "  </tbody>\n",
       "</table>\n",
       "</div>"
      ],
      "text/plain": [
       "         n      times         speed\n",
       "0        1   0.000429   2329.300693\n",
       "1       10   0.001373   7284.140330\n",
       "2      100   0.008012  12480.871816\n",
       "3     1000   0.055967  17867.553004\n",
       "4    10000   0.490591  20383.585570\n",
       "5   100000   5.171656  19336.165084\n",
       "6  1000000  51.079933  19577.159505"
      ]
     },
     "execution_count": 81,
     "metadata": {},
     "output_type": "execute_result"
    }
   ],
   "source": [
    "timeits('ssrm_test.sequential_p_values(data, p_0)',\n",
    "'''\n",
    "from scipy.stats import multinomial\n",
    "from ssrm_test import ssrm_test\n",
    "import numpy as np\n",
    "np.random.seed(0)\n",
    "p_0 = [0.1, 0.5, 0.4]\n",
    "p = [0.1, 0.49, 0.41]\n",
    "n = {n}\n",
    "data = multinomial.rvs(1, p, size={n})\n",
    "''',\n",
    "[10**i for i in range(7)],\n",
    "5)"
   ]
  },
  {
   "cell_type": "markdown",
   "metadata": {},
   "source": [
    "### --> Notice how speeds are around 600x slower.\n",
    "In this case, we didn't have the patience to check data sizes as large.  \n",
    "\n",
    "#### ---> Good news, though: performance doesn't slow much from linear (at least not yet at these data sizes.)"
   ]
  },
  {
   "cell_type": "markdown",
   "metadata": {},
   "source": [
    "## Bayesian Analysis\n",
    "One can obtain posterior probabilities (of an SRM) in the following way"
   ]
  },
  {
   "cell_type": "code",
   "execution_count": 70,
   "metadata": {},
   "outputs": [
    {
     "data": {
      "text/plain": [
       "(10000, 3)"
      ]
     },
     "execution_count": 70,
     "metadata": {},
     "output_type": "execute_result"
    }
   ],
   "source": [
    "data.shape"
   ]
  },
  {
   "cell_type": "code",
   "execution_count": 62,
   "metadata": {},
   "outputs": [
    {
     "data": {
      "text/plain": [
       "[0.1, 0.5, 0.4]"
      ]
     },
     "execution_count": 62,
     "metadata": {},
     "output_type": "execute_result"
    }
   ],
   "source": [
    "p_0"
   ]
  },
  {
   "cell_type": "code",
   "execution_count": 63,
   "metadata": {},
   "outputs": [],
   "source": [
    "posterior_probabilities = ssrm_test.sequential_posterior_probabilities(data, p_0)"
   ]
  },
  {
   "cell_type": "code",
   "execution_count": 64,
   "metadata": {},
   "outputs": [
    {
     "data": {
      "image/png": "[encoded data removed]",
      "text/plain": [
       "<Figure size 432x288 with 1 Axes>"
      ]
     },
     "metadata": {
      "needs_background": "light"
     },
     "output_type": "display_data"
    }
   ],
   "source": [
    "fig = plt.figure()\n",
    "plt.plot(posterior_probabilities)\n",
    "fig.suptitle(\"Posterior Probability of SRM\", fontsize=20)\n",
    "plt.xlabel(\"Visitor Count\", fontsize=18)\n",
    "plt.ylabel(\"Probability\", fontsize=16)\n",
    "plt.ylim(0, 1)\n",
    "plt.show()"
   ]
  },
  {
   "cell_type": "code",
   "execution_count": 82,
   "metadata": {},
   "outputs": [
    {
     "data": {
      "text/html": [
       "<div>\n",
       "<style scoped>\n",
       "    .dataframe tbody tr th:only-of-type {\n",
       "        vertical-align: middle;\n",
       "    }\n",
       "\n",
       "    .dataframe tbody tr th {\n",
       "        vertical-align: top;\n",
       "    }\n",
       "\n",
       "    .dataframe thead th {\n",
       "        text-align: right;\n",
       "    }\n",
       "</style>\n",
       "<table border=\"1\" class=\"dataframe\">\n",
       "  <thead>\n",
       "    <tr style=\"text-align: right;\">\n",
       "      <th></th>\n",
       "      <th>n</th>\n",
       "      <th>times</th>\n",
       "      <th>speed</th>\n",
       "    </tr>\n",
       "  </thead>\n",
       "  <tbody>\n",
       "    <tr>\n",
       "      <th>0</th>\n",
       "      <td>1</td>\n",
       "      <td>0.000339</td>\n",
       "      <td>2950.000440</td>\n",
       "    </tr>\n",
       "    <tr>\n",
       "      <th>1</th>\n",
       "      <td>10</td>\n",
       "      <td>0.001098</td>\n",
       "      <td>9111.482816</td>\n",
       "    </tr>\n",
       "    <tr>\n",
       "      <th>2</th>\n",
       "      <td>100</td>\n",
       "      <td>0.006996</td>\n",
       "      <td>14294.771045</td>\n",
       "    </tr>\n",
       "    <tr>\n",
       "      <th>3</th>\n",
       "      <td>1000</td>\n",
       "      <td>0.051916</td>\n",
       "      <td>19261.767415</td>\n",
       "    </tr>\n",
       "    <tr>\n",
       "      <th>4</th>\n",
       "      <td>10000</td>\n",
       "      <td>0.528334</td>\n",
       "      <td>18927.438380</td>\n",
       "    </tr>\n",
       "    <tr>\n",
       "      <th>5</th>\n",
       "      <td>100000</td>\n",
       "      <td>5.095597</td>\n",
       "      <td>19624.786052</td>\n",
       "    </tr>\n",
       "  </tbody>\n",
       "</table>\n",
       "</div>"
      ],
      "text/plain": [
       "        n     times         speed\n",
       "0       1  0.000339   2950.000440\n",
       "1      10  0.001098   9111.482816\n",
       "2     100  0.006996  14294.771045\n",
       "3    1000  0.051916  19261.767415\n",
       "4   10000  0.528334  18927.438380\n",
       "5  100000  5.095597  19624.786052"
      ]
     },
     "execution_count": 82,
     "metadata": {},
     "output_type": "execute_result"
    }
   ],
   "source": [
    "#old calc\n",
    "timeits('ssrm_test.sequential_posterior_probabilities(data, p_0)',\n",
    "'''\n",
    "from scipy.stats import multinomial\n",
    "from ssrm_test import ssrm_test\n",
    "import numpy as np\n",
    "np.random.seed(0)\n",
    "p_0 = [0.1, 0.5, 0.4]\n",
    "p = [0.1, 0.49, 0.41]\n",
    "n = {n}\n",
    "data = multinomial.rvs(1, p, size={n})\n",
    "''',\n",
    "[10**i for i in range(6)],\n",
    "5)"
   ]
  },
  {
   "cell_type": "code",
   "execution_count": 83,
   "metadata": {},
   "outputs": [
    {
     "data": {
      "text/html": [
       "<div>\n",
       "<style scoped>\n",
       "    .dataframe tbody tr th:only-of-type {\n",
       "        vertical-align: middle;\n",
       "    }\n",
       "\n",
       "    .dataframe tbody tr th {\n",
       "        vertical-align: top;\n",
       "    }\n",
       "\n",
       "    .dataframe thead th {\n",
       "        text-align: right;\n",
       "    }\n",
       "</style>\n",
       "<table border=\"1\" class=\"dataframe\">\n",
       "  <thead>\n",
       "    <tr style=\"text-align: right;\">\n",
       "      <th></th>\n",
       "      <th>n</th>\n",
       "      <th>times</th>\n",
       "      <th>speed</th>\n",
       "    </tr>\n",
       "  </thead>\n",
       "  <tbody>\n",
       "    <tr>\n",
       "      <th>0</th>\n",
       "      <td>1</td>\n",
       "      <td>0.000482</td>\n",
       "      <td>2074.206824</td>\n",
       "    </tr>\n",
       "    <tr>\n",
       "      <th>1</th>\n",
       "      <td>10</td>\n",
       "      <td>0.001163</td>\n",
       "      <td>8597.998354</td>\n",
       "    </tr>\n",
       "    <tr>\n",
       "      <th>2</th>\n",
       "      <td>100</td>\n",
       "      <td>0.009254</td>\n",
       "      <td>10806.168715</td>\n",
       "    </tr>\n",
       "    <tr>\n",
       "      <th>3</th>\n",
       "      <td>1000</td>\n",
       "      <td>0.059261</td>\n",
       "      <td>16874.523048</td>\n",
       "    </tr>\n",
       "    <tr>\n",
       "      <th>4</th>\n",
       "      <td>10000</td>\n",
       "      <td>0.523576</td>\n",
       "      <td>19099.409844</td>\n",
       "    </tr>\n",
       "    <tr>\n",
       "      <th>5</th>\n",
       "      <td>100000</td>\n",
       "      <td>5.301129</td>\n",
       "      <td>18863.905817</td>\n",
       "    </tr>\n",
       "    <tr>\n",
       "      <th>6</th>\n",
       "      <td>1000000</td>\n",
       "      <td>51.650088</td>\n",
       "      <td>19361.051074</td>\n",
       "    </tr>\n",
       "  </tbody>\n",
       "</table>\n",
       "</div>"
      ],
      "text/plain": [
       "         n      times         speed\n",
       "0        1   0.000482   2074.206824\n",
       "1       10   0.001163   8597.998354\n",
       "2      100   0.009254  10806.168715\n",
       "3     1000   0.059261  16874.523048\n",
       "4    10000   0.523576  19099.409844\n",
       "5   100000   5.301129  18863.905817\n",
       "6  1000000  51.650088  19361.051074"
      ]
     },
     "execution_count": 83,
     "metadata": {},
     "output_type": "execute_result"
    }
   ],
   "source": [
    "timeits('ssrm_test.sequential_posterior_probabilities(data, p_0)',\n",
    "'''\n",
    "from scipy.stats import multinomial\n",
    "from ssrm_test import ssrm_test\n",
    "import numpy as np\n",
    "np.random.seed(0)\n",
    "p_0 = [0.1, 0.5, 0.4]\n",
    "p = [0.1, 0.49, 0.41]\n",
    "n = {n}\n",
    "data = multinomial.rvs(1, p, size={n})\n",
    "''',\n",
    "[10**i for i in range(7)],\n",
    "5)"
   ]
  },
  {
   "cell_type": "markdown",
   "metadata": {},
   "source": [
    "### --> Performance is similar to frequentist, and again we don't yet see systematic slowing below linear.  \n",
    "\n",
    "(Interesting variability: slower at 10^5 than either 10^4, 10^6 in this run, and similarly in prior run for 10^4.)  \n",
    "  \n",
    "  \n",
    "## --> END OF TIMINGS"
   ]
  },
  {
   "cell_type": "markdown",
   "metadata": {},
   "source": [
    "## --> Key observations\n",
    "- A basic setup like this is enough for very **basic** bechmarks  \n",
    "- This is enough to confirm near-linear performance (at least up to data size 1m) \n",
    "- Caution: these numbers are not fully precise and informative:  \n",
    "    1) Different calculations in the same notebook may affect each other  \n",
    "    2) Realistic performance would be on a machine of known configuration not running 100's of browser tabs  \n",
    "    2) This tests only for one repo version. In real life, it would be useful to see how performance has varied over multiple commits.  \n",
    "    4) Our data frame might not be the prettiest way to present results.\n",
    "- More advanced testing frameworks (like ASV) include tools to address each of these points:  \n",
    "    1) Run each test in its own virtualenv  \n",
    "    2) Really you'd need a dedicated, unburdened test machine, but at the very least capture the machine configuration  \n",
    "    3) Test over commit history and include infrastructure to locate regressions  \n",
    "    4) Basic json data and webserver visualization (if you can get it to run on your browser!)"
   ]
  },
  {
   "cell_type": "code",
   "execution_count": null,
   "metadata": {},
   "outputs": [],
   "source": []
  },
  {
   "cell_type": "markdown",
   "metadata": {},
   "source": [
    "## The Advantages of a Sequential Test\n",
    "Consider the following tweet in which the user identifies an SRM using a non sequential frequentist test.\n",
    "\n",
    "<img src=\"./images/kohavi.png\" width=500></img>\n",
    "\n",
    "We don't have access to this exact dataset, but we can create one just like it. In total there were 1637070 visitors in the experiment and the empirical sample ratio was 50.2%. With this information we can create a similar dataset as follows."
   ]
  },
  {
   "cell_type": "code",
   "execution_count": 11,
   "metadata": {},
   "outputs": [
    {
     "name": "stdout",
     "output_type": "stream",
     "text": [
      "Empirical sample ratios are 50.2% and 49.8%\n"
     ]
    }
   ],
   "source": [
    "# Set the seed of our random number generator for reproducibility. Don't worry about this\n",
    "np.random.seed(1)\n",
    "\n",
    "# Our intended allocation probabilities\n",
    "p_0 = [0.5, 0.5]\n",
    "\n",
    "# The actual allocation probabilities\n",
    "p = [0.502, 0.498]\n",
    "\n",
    "# Specify number of visitors\n",
    "n = 1637070\n",
    "\n",
    "# Generate allocations\n",
    "data = multinomial.rvs(1, p, size=n)\n",
    "\n",
    "x = np.sum(data, axis=0)[0]\n",
    "print(\n",
    "    \"Empirical sample ratios are {}% and {}%\".format(\n",
    "        round(100 * x / n, 1), round(100 * (n - x) / n, 1)\n",
    "    )\n",
    ")"
   ]
  },
  {
   "cell_type": "markdown",
   "metadata": {},
   "source": [
    "The null hypothesis is that $p=0.5$. Let's compute the p-value from a two sided likelihood ratio test."
   ]
  },
  {
   "cell_type": "code",
   "execution_count": 12,
   "metadata": {},
   "outputs": [
    {
     "name": "stdout",
     "output_type": "stream",
     "text": [
      "821935 visitors assigned to the control\n",
      "821935 visitors assigned to the control\n",
      "The non sequential p-value is 1.0639610058940994e-07\n"
     ]
    }
   ],
   "source": [
    "from scipy.stats import binom\n",
    "\n",
    "print(\"{} visitors assigned to the control\".format(x))\n",
    "print(f\"{x} visitors assigned to the control\")\n",
    "print(\"The non sequential p-value is {}\".format(2 * binom.sf(x, n, 0.5)))"
   ]
  },
  {
   "cell_type": "markdown",
   "metadata": {},
   "source": [
    "The user has been able to identify an SRM at the 0.05-alpha level test by using a standard likelihood ratio test at the end of the experiment. Note that this happened at the **end of the experiment**. Unfortunately, this dataset is now invalid for testing and this large experiment of $1637070$ visitors has gone to waste. One needs to fix the underlying issue and start a new experiment, collecting new data.\n",
    "\n",
    "Ideally, you wouldn't have to wait until the end of an experiment to test if there is an SRM. This is exactly the main benefit a *sequential* SRM test provides: it can test for an SRM while your experiment is running, after **every single visitor**, without inflating the false positive rate. Let's run the SSRM test on the same dataset."
   ]
  },
  {
   "cell_type": "code",
   "execution_count": 13,
   "metadata": {},
   "outputs": [
    {
     "name": "stdout",
     "output_type": "stream",
     "text": [
      "Computing... (this may take some time)\n"
     ]
    },
    {
     "data": {
      "image/png": "[encoded data removed]",
      "text/plain": [
       "<Figure size 432x288 with 1 Axes>"
      ]
     },
     "metadata": {
      "needs_background": "light"
     },
     "output_type": "display_data"
    }
   ],
   "source": [
    "print(\"Computing... (this may take some time)\")\n",
    "pvals = ssrm_test.sequential_p_values(data, p_0)\n",
    "fig = plt.figure()\n",
    "plt.plot(pvals)\n",
    "fig.suptitle(\"Sequential p-value for Testing SRM\", fontsize=20)\n",
    "plt.xlabel(\"Visitor Count\", fontsize=16)\n",
    "plt.ylabel(\"p-value\", fontsize=16)\n",
    "plt.ylim(0, 1)\n",
    "plt.show()"
   ]
  },
  {
   "cell_type": "code",
   "execution_count": 15,
   "metadata": {},
   "outputs": [
    {
     "data": {
      "text/plain": [
       "[1,\n",
       " 0.9999999999983533,\n",
       " 0.9999999999983533,\n",
       " 0.9999999999983533,\n",
       " 0.9999999999983533,\n",
       " 0.9998001498890131,\n",
       " 0.9995004496110893,\n",
       " 0.9991010488508143,\n",
       " 0.9986020970713964,\n",
       " 0.998003773453743]"
      ]
     },
     "execution_count": 15,
     "metadata": {},
     "output_type": "execute_result"
    }
   ],
   "source": [
    "pvals[:10]"
   ]
  },
  {
   "cell_type": "code",
   "execution_count": 14,
   "metadata": {},
   "outputs": [
    {
     "name": "stdout",
     "output_type": "stream",
     "text": [
      "SSRM rejected the null (no SRM) at the alpha=0.05 level after 598209 visitors.\n",
      "That is only 37% of the way through the experiment.\n"
     ]
    }
   ],
   "source": [
    "sig_reached = len([p for p in pvals if p > 0.05])\n",
    "print(\n",
    "    \"SSRM rejected the null (no SRM) at the alpha=0.05 level after {} visitors.\".format(\n",
    "        sig_reached\n",
    "    )\n",
    ")\n",
    "print(\n",
    "    \"That is only {}% of the way through the experiment.\".format(\n",
    "        round(100 * sig_reached / n), 3\n",
    "    )\n",
    ")"
   ]
  },
  {
   "cell_type": "markdown",
   "metadata": {},
   "source": [
    "As illustrated with the above example, SSRM allowed us to detect an SRM much sooner than the end of the experiment. Larger SRM's, and hence larger errors, are detected even sooner."
   ]
  },
  {
   "cell_type": "markdown",
   "metadata": {},
   "source": [
    "## Time Aggregated Data\n",
    "Sometimes you may only have time aggregated data, instead of visitor-level data. That is, you might only know the total number of visitors assigned to each variation within an interval (or bucket) of time. For 3 variations, such time aggregated data can be represented as $[[100,120,99], [123,112,111], \\dots$, where there is one inner array for each time bucket. The remaining steps are identical."
   ]
  },
  {
   "cell_type": "code",
   "execution_count": 25,
   "metadata": {},
   "outputs": [
    {
     "name": "stdout",
     "output_type": "stream",
     "text": [
      "Now the data looks like: \n",
      "[[102 497 401]\n",
      " [122 483 395]\n",
      " [101 513 386]\n",
      " [118 483 399]\n",
      " [ 93 516 391]\n",
      " [109 497 394]\n",
      " [104 506 390]\n",
      " [ 90 528 382]\n",
      " [104 516 380]]\n"
     ]
    }
   ],
   "source": [
    "# Set the seed of our random number generator for reproducibility. Don't worry about this\n",
    "np.random.seed(0)\n",
    "\n",
    "# Our intended allocation probabilities\n",
    "p_0 = [0.1, 0.5, 0.4]\n",
    "\n",
    "# The actual allocation probabilities\n",
    "p = [0.1, 0.49, 0.41]\n",
    "\n",
    "# Generate allocations\n",
    "data = multinomial.rvs(1000, p, size=100)\n",
    "\n",
    "print(\"Now the data looks like: \")\n",
    "print(data[1:10])"
   ]
  },
  {
   "cell_type": "code",
   "execution_count": 21,
   "metadata": {},
   "outputs": [
    {
     "data": {
      "text/plain": [
       "(100, 3)"
      ]
     },
     "execution_count": 21,
     "metadata": {},
     "output_type": "execute_result"
    }
   ],
   "source": [
    "data.shape"
   ]
  },
  {
   "cell_type": "code",
   "execution_count": 26,
   "metadata": {},
   "outputs": [
    {
     "data": {
      "image/png": "[encoded data removed]",
      "text/plain": [
       "<Figure size 432x288 with 1 Axes>"
      ]
     },
     "metadata": {
      "needs_background": "light"
     },
     "output_type": "display_data"
    }
   ],
   "source": [
    "pvals = ssrm_test.sequential_p_values(data, p_0)\n",
    "fig = plt.figure()\n",
    "plt.plot(pvals)\n",
    "fig.suptitle(\"Sequential p-value for Testing SRM\", fontsize=20)\n",
    "plt.xlabel(\"Time Bucket Index\", fontsize=16)\n",
    "plt.ylabel(\"p-value\", fontsize=16)\n",
    "plt.ylim(0, 1)\n",
    "plt.show()"
   ]
  },
  {
   "cell_type": "markdown",
   "metadata": {},
   "source": [
    "## Working With Pandas DataFrames\n",
    "Suppose your data is inside a `pandas` DataFrame. The following cells will show you how to manipulate them into the format expected by the SSRM API. First, if you haven't done so already, install `pandas` by uncommenting out the code below, and let's create a sample DataFrame to work with."
   ]
  },
  {
   "cell_type": "code",
   "execution_count": 27,
   "metadata": {},
   "outputs": [
    {
     "data": {
      "text/html": [
       "<div>\n",
       "<style scoped>\n",
       "    .dataframe tbody tr th:only-of-type {\n",
       "        vertical-align: middle;\n",
       "    }\n",
       "\n",
       "    .dataframe tbody tr th {\n",
       "        vertical-align: top;\n",
       "    }\n",
       "\n",
       "    .dataframe thead th {\n",
       "        text-align: right;\n",
       "    }\n",
       "</style>\n",
       "<table border=\"1\" class=\"dataframe\">\n",
       "  <thead>\n",
       "    <tr style=\"text-align: right;\">\n",
       "      <th></th>\n",
       "      <th>variation_a</th>\n",
       "      <th>variation_b</th>\n",
       "      <th>variation_c</th>\n",
       "    </tr>\n",
       "  </thead>\n",
       "  <tbody>\n",
       "    <tr>\n",
       "      <th>0</th>\n",
       "      <td>84</td>\n",
       "      <td>489</td>\n",
       "      <td>427</td>\n",
       "    </tr>\n",
       "    <tr>\n",
       "      <th>1</th>\n",
       "      <td>102</td>\n",
       "      <td>497</td>\n",
       "      <td>401</td>\n",
       "    </tr>\n",
       "    <tr>\n",
       "      <th>2</th>\n",
       "      <td>122</td>\n",
       "      <td>483</td>\n",
       "      <td>395</td>\n",
       "    </tr>\n",
       "    <tr>\n",
       "      <th>3</th>\n",
       "      <td>101</td>\n",
       "      <td>513</td>\n",
       "      <td>386</td>\n",
       "    </tr>\n",
       "    <tr>\n",
       "      <th>4</th>\n",
       "      <td>118</td>\n",
       "      <td>483</td>\n",
       "      <td>399</td>\n",
       "    </tr>\n",
       "  </tbody>\n",
       "</table>\n",
       "</div>"
      ],
      "text/plain": [
       "   variation_a  variation_b  variation_c\n",
       "0           84          489          427\n",
       "1          102          497          401\n",
       "2          122          483          395\n",
       "3          101          513          386\n",
       "4          118          483          399"
      ]
     },
     "execution_count": 27,
     "metadata": {},
     "output_type": "execute_result"
    }
   ],
   "source": [
    "# import sys\n",
    "#!{sys.executable} -m pip install pandas\n",
    "\n",
    "import pandas as pd\n",
    "\n",
    "df = pd.DataFrame(data)\n",
    "df.columns = [\"variation_a\", \"variation_b\", \"variation_c\"]\n",
    "df.head()"
   ]
  },
  {
   "cell_type": "markdown",
   "metadata": {},
   "source": [
    "The dataframe df gives us the total number of visitors assigned to each variation within an interval of time. It's very easy to extract these values using `df.values`. This gives an array of arrays, which can be fed into the ssrm api."
   ]
  },
  {
   "cell_type": "code",
   "execution_count": 28,
   "metadata": {},
   "outputs": [
    {
     "data": {
      "text/plain": [
       "(100, 3)"
      ]
     },
     "execution_count": 28,
     "metadata": {},
     "output_type": "execute_result"
    }
   ],
   "source": [
    "df.shape"
   ]
  },
  {
   "cell_type": "code",
   "execution_count": 29,
   "metadata": {},
   "outputs": [
    {
     "data": {
      "image/png": "[encoded data removed]",
      "text/plain": [
       "<Figure size 432x288 with 1 Axes>"
      ]
     },
     "metadata": {
      "needs_background": "light"
     },
     "output_type": "display_data"
    }
   ],
   "source": [
    "pvals = ssrm_test.sequential_p_values(df.values, p_0)\n",
    "fig = plt.figure()\n",
    "plt.plot(pvals)\n",
    "fig.suptitle(\"Sequential p-value for Testing SRM\", fontsize=20)\n",
    "plt.xlabel(\"Time Bucket Index\", fontsize=16)\n",
    "plt.ylabel(\"p-value\", fontsize=16)\n",
    "plt.ylim(0, 1)\n",
    "plt.show()"
   ]
  },
  {
   "cell_type": "code",
   "execution_count": 30,
   "metadata": {},
   "outputs": [
    {
     "data": {
      "text/plain": [
       "array([8.86423685e-01, 8.86423685e-01, 8.86423685e-01, 8.86423685e-01,\n",
       "       8.86423685e-01, 8.86423685e-01, 8.86423685e-01, 8.86423685e-01,\n",
       "       8.86423685e-01, 8.86423685e-01, 8.86423685e-01, 8.86423685e-01,\n",
       "       8.86423685e-01, 8.86423685e-01, 8.86423685e-01, 8.86423685e-01,\n",
       "       8.86423685e-01, 6.13072512e-01, 6.13072512e-01, 5.86553273e-01,\n",
       "       5.86553273e-01, 3.58112646e-01, 1.51229614e-01, 1.05669868e-01,\n",
       "       1.05669868e-01, 1.05669868e-01, 1.05669868e-01, 1.05669868e-01,\n",
       "       1.05669868e-01, 1.05669868e-01, 1.05669868e-01, 1.05669868e-01,\n",
       "       1.05669868e-01, 1.05669868e-01, 1.05669868e-01, 1.05669868e-01,\n",
       "       1.05669868e-01, 1.05669868e-01, 1.05669868e-01, 1.05669868e-01,\n",
       "       1.05669868e-01, 1.05669868e-01, 1.05669868e-01, 7.32132586e-02,\n",
       "       7.01407825e-02, 7.01407825e-02, 7.01407825e-02, 7.01407825e-02,\n",
       "       7.01407825e-02, 5.53655876e-02, 2.47381227e-02, 2.47381227e-02,\n",
       "       2.45060694e-02, 1.90059985e-02, 1.90059985e-02, 1.90059985e-02,\n",
       "       1.90059985e-02, 1.90059985e-02, 6.57955038e-03, 3.72624481e-03,\n",
       "       1.76034388e-03, 5.64848734e-04, 3.36940117e-04, 2.34995328e-04,\n",
       "       2.34995328e-04, 1.01669555e-04, 5.47143980e-05, 5.47143980e-05,\n",
       "       3.29995378e-05, 3.29995378e-05, 3.29995378e-05, 2.45586030e-05,\n",
       "       2.21171639e-05, 1.96786215e-05, 1.44855740e-05, 8.40919471e-06,\n",
       "       8.40919471e-06, 5.99302354e-06, 5.99302354e-06, 5.99302354e-06,\n",
       "       5.99302354e-06, 5.99302354e-06, 5.99302354e-06, 5.99302354e-06,\n",
       "       5.99302354e-06, 5.99302354e-06, 2.68181673e-06, 2.68181673e-06,\n",
       "       1.78161042e-06, 4.53397772e-07, 2.18409503e-07, 2.18409503e-07,\n",
       "       1.42736101e-07, 1.42736101e-07, 9.63760193e-08, 9.63760193e-08,\n",
       "       9.63760193e-08, 9.63760193e-08, 9.63760193e-08, 9.63760193e-08])"
      ]
     },
     "execution_count": 30,
     "metadata": {},
     "output_type": "execute_result"
    }
   ],
   "source": [
    "pvals"
   ]
  },
  {
   "cell_type": "code",
   "execution_count": null,
   "metadata": {},
   "outputs": [],
   "source": []
  }
 ],
 "metadata": {
  "kernelspec": {
   "display_name": "Python 3",
   "language": "python",
   "name": "python3"
  },
  "language_info": {
   "codemirror_mode": {
    "name": "ipython",
    "version": 3
   },
   "file_extension": ".py",
   "mimetype": "text/x-python",
   "name": "python",
   "nbconvert_exporter": "python",
   "pygments_lexer": "ipython3",
   "version": "3.7.6"
  }
 },
 "nbformat": 4,
 "nbformat_minor": 4
}
