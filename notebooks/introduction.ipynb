{
 "cells": [
  {
   "cell_type": "markdown",
   "metadata": {},
   "source": [
    "# SSRM: Sequential Sample Ratio Mistmatch Test\n",
    "## Michael Lindon (michael.lindon@optimizely.com)\n",
    "\n",
    "### What is an SRM?\n",
    "\n",
    "In almost all online controlled experiments (OCEs) which use random designs, one must specify a traffic allocation to each of the variants in the experiment. If you have never done this, chances are you have been using a default traffic allocation which assigns equal amounts of traffic to all the experiment variants.\n",
    "\n",
    "A common cause for concern is when the number of visitors assigned to each variant appears somewhat different from what one might expect under the intended traffic allocation. Indeed, this is a signal of an underlying data quality issue or engineering bug in the implementation, which has the potential to invalidate any causal conclusions drawn from the experiment. Loosely speaking, a **Sample Ratio Mistmatch** (SRM) is said to be presented when the observed sample ratios are significantly different from the expected sample ratios. It is widely regarded as a good experimentation practise to check experiments for SRMs. We can formulate this problem statistically to give a precise mathematical definition of an SRM.\n",
    "\n",
    "### Statistical Model\n",
    "The simplest example of an A/B test involves two variants, a control and a treatment, and equal traffic allocation to each. To be precise, a new visitor is assigned to the treatment with probability 0.5 upon entering the experiment. Statistically speaking, this assignment is an example of a $\\text{Binomial}(1,p)$. The intended traffic allocation corresponds to the *null hypothesis:* $p = 0.5$.  Detection of a sample ratio mismatch can be formulated as a hypothesis test which tests precisely this null hypothesis.\n",
    "\n",
    "A more general example is provided when there are multiple variants in an experiment to assign visitors to randomly. In this case a user assignment is an example of a $\\text{Multinomial}(1,p)$ random variable $x$, which is simply a higher dimensional generalization of the $\\text{Binomial}(1,p)$ distribution. If there are $d$ variants in the experiment, then $x$ is a vector of length $d$ containing $d-1$ zeros and $1$ one to indicate the outcome. As an example $x=(0,0,1)$ indicates that the user was assigned to the third variant. Naturally, the parameter $p$ is also a $d$ dimensional vector, with the constraint that the elements are in $[0,1]$ and sum to 1, so that these values correspond to probabilities. The intended traffic allocation to each arm corresponds to a null hypothesis about the parameter $p$. If we expected equal traffic to each variant, then the null hypothesis is $p=[1/3, 1/3, 1/3]$.\n",
    "\n",
    "$$\\begin{align}\n",
    "H_0: x_1, x_2, \\dots \\sim \\text{Multinomial}(1,p)\\hspace{1cm}p=p_0\\\\\n",
    "H_1: x_1, x_2, \\dots \\sim \\text{Multinomial}(1,p)\\hspace{1cm}p\\neq p_0\\\\\n",
    "\\end{align}$$\n",
    "\n",
    "There are a number of ways to test this, Bayesian and frequentist, sequential and non sequential. The ssrm package contains a test developed at Optimizely which is sequential and has both Bayesian and frequentist interpretations. \n",
    "\n",
    "### SSRM\n",
    "The wonderful thing about a sequential version of a sample ratio test is that you don't have to wait for the test to finish before it can be executed. The SSRM test detects in real time, from the very beginning of an experiment, if an SRM is present. This allows bugs to be rapidly detected in the early stages of an experiment and corrected, before exposing new users to the variants. For the underlying mathematical details, the reader is referred to our paper. Let's start off and generate some data to work with."
   ]
  },
  {
   "cell_type": "code",
   "execution_count": 52,
   "metadata": {},
   "outputs": [
    {
     "data": {
      "text/plain": [
       "array([[0, 1, 0],\n",
       "       [0, 0, 1],\n",
       "       [0, 0, 1],\n",
       "       ...,\n",
       "       [0, 1, 0],\n",
       "       [0, 0, 1],\n",
       "       [0, 1, 0]])"
      ]
     },
     "execution_count": 52,
     "metadata": {},
     "output_type": "execute_result"
    }
   ],
   "source": [
    "from scipy.stats import multinomial\n",
    "import numpy as np\n",
    "\n",
    "# Set the seed of our random number generator for reproducibility. Don't worry about this\n",
    "np.random.seed(1)\n",
    "\n",
    "# Our intended allocation probabilities\n",
    "p_0 = [0.1, 0.5, 0.4]\n",
    "\n",
    "# The actual allocation probabilities\n",
    "p = [0.1, 0.45, 0.45]\n",
    "\n",
    "# Specify number of visitors\n",
    "N = 10000\n",
    "\n",
    "# Generate allocations\n",
    "data = multinomial.rvs(1, p, size=N)\n",
    "\n",
    "data"
   ]
  },
  {
   "cell_type": "markdown",
   "metadata": {},
   "source": [
    "We have just simulated N allocations under probabilities which differ from the intended. The null hypothesis is therefore not correct for this dataset, and we would like to reject the null hypothesis using the ssrm test. \n",
    "\n",
    "For an immediate answer, we can import the following function. This gives the Bayesian posterior probability of a sample ratio mismatch."
   ]
  },
  {
   "cell_type": "code",
   "execution_count": 53,
   "metadata": {},
   "outputs": [
    {
     "data": {
      "text/plain": [
       "0.9999999999898621"
      ]
     },
     "execution_count": 53,
     "metadata": {},
     "output_type": "execute_result"
    }
   ],
   "source": [
    "from ssrm_test.ssrm_test import srm_test\n",
    "\n",
    "srm_test(data, p_0)"
   ]
  },
  {
   "cell_type": "markdown",
   "metadata": {},
   "source": [
    "The ssrm_test module is however, much more powerful than just the above functionality. It allows sequential investigations as well as Bayesian and Frequentist analyses. One can track Bayesian and Frequentist metrics of significance in real time, after every datapoint. The `sequential_posteriors` function can be used to get the most raw form of information, and can be converted to Bayes factors with the `bayes_factor` function "
   ]
  },
  {
   "cell_type": "code",
   "execution_count": 54,
   "metadata": {},
   "outputs": [],
   "source": [
    "from ssrm_test.ssrm_test import sequential_posteriors, bayes_factor\n",
    "\n",
    "posteriors = sequential_posteriors(data, p_0)\n",
    "bayes_factors = [bayes_factor(post) for post in posteriors][1:]"
   ]
  },
  {
   "cell_type": "markdown",
   "metadata": {},
   "source": [
    "The data returned by `sequential_posteriors` can be used to form both Bayesian and Frequentist Analyses. Let's quickly install matplotlib for visualizing the results, in case your python environment is lacking it."
   ]
  },
  {
   "cell_type": "code",
   "execution_count": 55,
   "metadata": {},
   "outputs": [
    {
     "name": "stdout",
     "output_type": "stream",
     "text": [
      "Requirement already satisfied: matplotlib in /Users/mlindon/.pyenv/versions/3.7.4/envs/ssrm/lib/python3.7/site-packages (3.2.1)\n",
      "Requirement already satisfied: pyparsing!=2.0.4,!=2.1.2,!=2.1.6,>=2.0.1 in /Users/mlindon/.pyenv/versions/3.7.4/envs/ssrm/lib/python3.7/site-packages (from matplotlib) (2.4.7)\n",
      "Requirement already satisfied: numpy>=1.11 in /Users/mlindon/.pyenv/versions/3.7.4/envs/ssrm/lib/python3.7/site-packages (from matplotlib) (1.18.4)\n",
      "Requirement already satisfied: python-dateutil>=2.1 in /Users/mlindon/.pyenv/versions/3.7.4/envs/ssrm/lib/python3.7/site-packages (from matplotlib) (2.8.1)\n",
      "Requirement already satisfied: cycler>=0.10 in /Users/mlindon/.pyenv/versions/3.7.4/envs/ssrm/lib/python3.7/site-packages (from matplotlib) (0.10.0)\n",
      "Requirement already satisfied: kiwisolver>=1.0.1 in /Users/mlindon/.pyenv/versions/3.7.4/envs/ssrm/lib/python3.7/site-packages (from matplotlib) (1.2.0)\n",
      "Requirement already satisfied: six>=1.5 in /Users/mlindon/.pyenv/versions/3.7.4/envs/ssrm/lib/python3.7/site-packages (from python-dateutil>=2.1->matplotlib) (1.14.0)\n",
      "\u001b[33mYou are using pip version 19.0.3, however version 20.1 is available.\n",
      "You should consider upgrading via the 'pip install --upgrade pip' command.\u001b[0m\n"
     ]
    }
   ],
   "source": [
    "# Install matplotlib in current python environment\n",
    "import sys\n",
    "!{sys.executable} -m pip install matplotlib"
   ]
  },
  {
   "cell_type": "markdown",
   "metadata": {},
   "source": [
    "### Frequentist Analysis\n",
    "To obtain sequential p-values, simply import the `sequential_p_values` function. The probability under the null hypothesis that the sequential p-value falls below $\\alpha$ is less than $\\alpha$. In otherwords, if you reject the null and declare an SRM to be present when the sequential p-value is less than $\\alpha$, then the probability of reporting a **false positive** is at most $\\alpha$. "
   ]
  },
  {
   "cell_type": "code",
   "execution_count": 56,
   "metadata": {},
   "outputs": [],
   "source": [
    "from ssrm_test.ssrm_test import sequential_p_values\n",
    "import matplotlib.pyplot as plt\n",
    "\n",
    "pvals = sequential_p_values(bayes_factors)"
   ]
  },
  {
   "cell_type": "code",
   "execution_count": 57,
   "metadata": {},
   "outputs": [
    {
     "data": {
      "image/png": "[encoded data removed]",
      "text/plain": [
       "<Figure size 432x288 with 1 Axes>"
      ]
     },
     "metadata": {
      "needs_background": "light"
     },
     "output_type": "display_data"
    }
   ],
   "source": [
    "fig = plt.figure()\n",
    "plt.plot(pvals)\n",
    "fig.suptitle(\"Sequential p-value for Testing SRM\", fontsize=20)\n",
    "plt.xlabel(\"visitor count\", fontsize=18)\n",
    "plt.ylabel(\"p-value\", fontsize=16)\n",
    "plt.show()"
   ]
  },
  {
   "cell_type": "markdown",
   "metadata": {},
   "source": [
    "### Bayesian Analysis\n",
    "To obtain sequential posterior probabilities, simply import the `posterior_probabilities` function."
   ]
  },
  {
   "cell_type": "code",
   "execution_count": 58,
   "metadata": {},
   "outputs": [],
   "source": [
    "from ssrm_test.ssrm_test import posterior_probability\n",
    "\n",
    "posterior_probabilities = [posterior_probability(bf) for bf in bayes_factors]"
   ]
  },
  {
   "cell_type": "code",
   "execution_count": 59,
   "metadata": {},
   "outputs": [
    {
     "data": {
      "image/png": "[encoded data removed]",
      "text/plain": [
       "<Figure size 432x288 with 1 Axes>"
      ]
     },
     "metadata": {
      "needs_background": "light"
     },
     "output_type": "display_data"
    }
   ],
   "source": [
    "fig = plt.figure()\n",
    "plt.plot(posterior_probabilities)\n",
    "fig.suptitle(\"Posterior Probability of SRM\", fontsize=20)\n",
    "plt.xlabel(\"visitor count\", fontsize=18)\n",
    "plt.ylabel(\"probability\", fontsize=16)\n",
    "plt.show()"
   ]
  },
  {
   "cell_type": "code",
   "execution_count": null,
   "metadata": {},
   "outputs": [],
   "source": []
  }
 ],
 "metadata": {
  "kernelspec": {
   "display_name": "Python 3",
   "language": "python",
   "name": "python3"
  },
  "language_info": {
   "codemirror_mode": {
    "name": "ipython",
    "version": 3
   },
   "file_extension": ".py",
   "mimetype": "text/x-python",
   "name": "python",
   "nbconvert_exporter": "python",
   "pygments_lexer": "ipython3",
   "version": "3.7.4"
  }
 },
 "nbformat": 4,
 "nbformat_minor": 4
}
